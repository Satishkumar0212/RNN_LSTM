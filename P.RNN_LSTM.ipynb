{
 "cells": [
  {
   "cell_type": "markdown",
   "id": "798facfa",
   "metadata": {},
   "source": [
    "# Recurrent Neural Network\n",
    "\n",
    "part 1: Data preprocessing\n",
    "    \n",
    "importting the libraries"
   ]
  },
  {
   "cell_type": "code",
   "execution_count": 7,
   "id": "9ee49108",
   "metadata": {},
   "outputs": [],
   "source": [
    "import numpy as np\n",
    "import matplotlib.pyplot as plt\n",
    "import pandas as pd\n",
    "import warnings\n",
    "warnings.simplefilter('ignore')"
   ]
  },
  {
   "cell_type": "markdown",
   "id": "4858db39",
   "metadata": {},
   "source": [
    "### importing the traning set"
   ]
  },
  {
   "cell_type": "code",
   "execution_count": 8,
   "id": "4afc3729",
   "metadata": {},
   "outputs": [
    {
     "data": {
      "text/html": [
       "<div>\n",
       "<style scoped>\n",
       "    .dataframe tbody tr th:only-of-type {\n",
       "        vertical-align: middle;\n",
       "    }\n",
       "\n",
       "    .dataframe tbody tr th {\n",
       "        vertical-align: top;\n",
       "    }\n",
       "\n",
       "    .dataframe thead th {\n",
       "        text-align: right;\n",
       "    }\n",
       "</style>\n",
       "<table border=\"1\" class=\"dataframe\">\n",
       "  <thead>\n",
       "    <tr style=\"text-align: right;\">\n",
       "      <th></th>\n",
       "      <th>Date</th>\n",
       "      <th>Open</th>\n",
       "      <th>High</th>\n",
       "      <th>Low</th>\n",
       "      <th>Close</th>\n",
       "      <th>Volume</th>\n",
       "    </tr>\n",
       "  </thead>\n",
       "  <tbody>\n",
       "    <tr>\n",
       "      <th>0</th>\n",
       "      <td>01-03-2012</td>\n",
       "      <td>325.25</td>\n",
       "      <td>332.83</td>\n",
       "      <td>324.97</td>\n",
       "      <td>663.59</td>\n",
       "      <td>73,80,500</td>\n",
       "    </tr>\n",
       "    <tr>\n",
       "      <th>1</th>\n",
       "      <td>01-04-2012</td>\n",
       "      <td>331.27</td>\n",
       "      <td>333.87</td>\n",
       "      <td>329.08</td>\n",
       "      <td>666.45</td>\n",
       "      <td>57,49,400</td>\n",
       "    </tr>\n",
       "    <tr>\n",
       "      <th>2</th>\n",
       "      <td>01-05-2012</td>\n",
       "      <td>329.83</td>\n",
       "      <td>330.75</td>\n",
       "      <td>326.89</td>\n",
       "      <td>657.21</td>\n",
       "      <td>65,90,300</td>\n",
       "    </tr>\n",
       "    <tr>\n",
       "      <th>3</th>\n",
       "      <td>01-06-2012</td>\n",
       "      <td>328.34</td>\n",
       "      <td>328.77</td>\n",
       "      <td>323.68</td>\n",
       "      <td>648.24</td>\n",
       "      <td>54,05,900</td>\n",
       "    </tr>\n",
       "    <tr>\n",
       "      <th>4</th>\n",
       "      <td>01-09-2012</td>\n",
       "      <td>322.04</td>\n",
       "      <td>322.29</td>\n",
       "      <td>309.46</td>\n",
       "      <td>620.76</td>\n",
       "      <td>1,16,88,800</td>\n",
       "    </tr>\n",
       "  </tbody>\n",
       "</table>\n",
       "</div>"
      ],
      "text/plain": [
       "         Date    Open    High     Low   Close       Volume\n",
       "0  01-03-2012  325.25  332.83  324.97  663.59    73,80,500\n",
       "1  01-04-2012  331.27  333.87  329.08  666.45    57,49,400\n",
       "2  01-05-2012  329.83  330.75  326.89  657.21    65,90,300\n",
       "3  01-06-2012  328.34  328.77  323.68  648.24    54,05,900\n",
       "4  01-09-2012  322.04  322.29  309.46  620.76  1,16,88,800"
      ]
     },
     "execution_count": 8,
     "metadata": {},
     "output_type": "execute_result"
    }
   ],
   "source": [
    "dataset_train = pd.read_csv(r\"C:\\Users\\satis_asxzdl9\\Downloads\\Google_Stock_Price_Train (1).csv\")\n",
    "dataset_train.head()"
   ]
  },
  {
   "cell_type": "code",
   "execution_count": 9,
   "id": "71f5a92c",
   "metadata": {},
   "outputs": [
    {
     "data": {
      "text/plain": [
       "array([[325.25],\n",
       "       [331.27],\n",
       "       [329.83],\n",
       "       ...,\n",
       "       [793.7 ],\n",
       "       [783.33],\n",
       "       [782.75]])"
      ]
     },
     "execution_count": 9,
     "metadata": {},
     "output_type": "execute_result"
    }
   ],
   "source": [
    "training_set = dataset_train.iloc[:,1:2].values\n",
    "training_set"
   ]
  },
  {
   "cell_type": "markdown",
   "id": "67408a6e",
   "metadata": {},
   "source": [
    "# Featuring Scaling \n"
   ]
  },
  {
   "cell_type": "code",
   "execution_count": 13,
   "id": "8fef6af8",
   "metadata": {},
   "outputs": [],
   "source": [
    "from sklearn.preprocessing import MinMaxScaler\n",
    "sc = MinMaxScaler()\n",
    "training_set_scaled = sc.fit_transform(training_set)"
   ]
  },
  {
   "cell_type": "code",
   "execution_count": 15,
   "id": "b7afdf8e",
   "metadata": {
    "scrolled": true
   },
   "outputs": [
    {
     "data": {
      "text/plain": [
       "(1258, 1)"
      ]
     },
     "execution_count": 15,
     "metadata": {},
     "output_type": "execute_result"
    }
   ],
   "source": [
    "training_set.shape"
   ]
  },
  {
   "cell_type": "markdown",
   "id": "99e112da",
   "metadata": {},
   "source": [
    "#### Creating a data stracture with 60 timessteps and 1 output\n"
   ]
  },
  {
   "cell_type": "code",
   "execution_count": 19,
   "id": "1084477f",
   "metadata": {},
   "outputs": [],
   "source": [
    "\n",
    "X_train = []\n",
    "y_train =[]\n",
    "\n",
    "for i in range(60,1258):\n",
    "        X_train.append(training_set_scaled[i-60:i,0])\n",
    "        y_train.append(training_set_scaled[i,0])\n",
    "        \n",
    "        \n",
    "X_train,y_train =np.array(X_train),np.array(y_train)        \n",
    "        "
   ]
  },
  {
   "cell_type": "markdown",
   "id": "c414a7ce",
   "metadata": {},
   "source": [
    "# Reshaping"
   ]
  },
  {
   "cell_type": "code",
   "execution_count": 22,
   "id": "d0c2d03e",
   "metadata": {},
   "outputs": [],
   "source": [
    "X_train = np.reshape(X_train,(X_train.shape[0],X_train.shape[1],1))"
   ]
  },
  {
   "cell_type": "markdown",
   "id": "f68e2f03",
   "metadata": {},
   "source": [
    "### Part 2- Building and Training the RNN\n",
    "\n",
    "importing the keras libraries and packages"
   ]
  },
  {
   "cell_type": "code",
   "execution_count": 23,
   "id": "fc3b23ca",
   "metadata": {},
   "outputs": [],
   "source": [
    "from keras.models import Sequential\n",
    "from keras.layers import Dense\n",
    "from keras.layers import LSTM\n",
    "from keras.layers import Dropout"
   ]
  },
  {
   "cell_type": "markdown",
   "id": "b774ae20",
   "metadata": {},
   "source": [
    "#### initialising the RNN"
   ]
  },
  {
   "cell_type": "code",
   "execution_count": 24,
   "id": "82d2178f",
   "metadata": {},
   "outputs": [],
   "source": [
    "regressor = Sequential()"
   ]
  },
  {
   "cell_type": "markdown",
   "id": "91936043",
   "metadata": {},
   "source": [
    "####  the first LSTM layers and some Dropout regularAddingisation"
   ]
  },
  {
   "cell_type": "code",
   "execution_count": 26,
   "id": "088074f2",
   "metadata": {},
   "outputs": [],
   "source": [
    "regressor.add(LSTM(units=50,return_sequences = True,input_shape=(X_train.shape[1],1)))\n",
    "regressor.add(Dropout(0.2))"
   ]
  },
  {
   "cell_type": "markdown",
   "id": "6b220132",
   "metadata": {},
   "source": [
    "#### the second LSTM layers and some Dropout regularAddingisation"
   ]
  },
  {
   "cell_type": "code",
   "execution_count": 27,
   "id": "0a05a5c5",
   "metadata": {},
   "outputs": [],
   "source": [
    "regressor.add(LSTM(units = 50 ,return_sequences = True))\n",
    "regressor.add(Dropout(0.2))"
   ]
  },
  {
   "cell_type": "markdown",
   "id": "a2140f63",
   "metadata": {},
   "source": [
    "##### the third LSTM layers and some Dropout regularAddingisation"
   ]
  },
  {
   "cell_type": "code",
   "execution_count": 29,
   "id": "437e1f7a",
   "metadata": {},
   "outputs": [],
   "source": [
    "regressor.add(LSTM(units=50,return_sequences=True))\n",
    "regressor.add(Dropout(0.2))"
   ]
  },
  {
   "cell_type": "markdown",
   "id": "635e1827",
   "metadata": {},
   "source": [
    "##### the fourth LSTM layers and some Dropout regularAddingisation"
   ]
  },
  {
   "cell_type": "code",
   "execution_count": 30,
   "id": "6da60bae",
   "metadata": {},
   "outputs": [],
   "source": [
    "regressor.add(LSTM(units =50,return_sequences=True))\n",
    "regressor.add(Dropout(0.2))"
   ]
  },
  {
   "cell_type": "markdown",
   "id": "046fe2da",
   "metadata": {},
   "source": [
    "# Adding the output Layer"
   ]
  },
  {
   "cell_type": "code",
   "execution_count": 34,
   "id": "a0696af2",
   "metadata": {},
   "outputs": [],
   "source": [
    "regressor.add(Dense(units = 1))"
   ]
  },
  {
   "cell_type": "markdown",
   "id": "ec9f4a73",
   "metadata": {},
   "source": [
    "### Compilling the RNN to the Training set"
   ]
  },
  {
   "cell_type": "code",
   "execution_count": 35,
   "id": "0c539983",
   "metadata": {},
   "outputs": [],
   "source": [
    "regressor.compile(optimizer = 'adam',loss = 'mean_squared_error')"
   ]
  },
  {
   "cell_type": "markdown",
   "id": "f6ae90a6",
   "metadata": {},
   "source": [
    "### Filling the RNN to the Training set"
   ]
  },
  {
   "cell_type": "code",
   "execution_count": 36,
   "id": "0e13c9d1",
   "metadata": {},
   "outputs": [
    {
     "name": "stdout",
     "output_type": "stream",
     "text": [
      "Epoch 1/100\n",
      "38/38 [==============================] - 28s 262ms/step - loss: 0.1210\n",
      "Epoch 2/100\n",
      "38/38 [==============================] - 9s 242ms/step - loss: 0.0418\n",
      "Epoch 3/100\n",
      "38/38 [==============================] - 8s 217ms/step - loss: 0.0081\n",
      "Epoch 4/100\n",
      "38/38 [==============================] - 8s 213ms/step - loss: 0.0058\n",
      "Epoch 5/100\n",
      "38/38 [==============================] - 8s 215ms/step - loss: 0.0065\n",
      "Epoch 6/100\n",
      "38/38 [==============================] - 8s 217ms/step - loss: 0.0057\n",
      "Epoch 7/100\n",
      "38/38 [==============================] - 8s 215ms/step - loss: 0.0051\n",
      "Epoch 8/100\n",
      "38/38 [==============================] - 8s 214ms/step - loss: 0.0052\n",
      "Epoch 9/100\n",
      "38/38 [==============================] - 8s 213ms/step - loss: 0.0058\n",
      "Epoch 10/100\n",
      "38/38 [==============================] - 8s 212ms/step - loss: 0.0053\n",
      "Epoch 11/100\n",
      "38/38 [==============================] - 8s 204ms/step - loss: 0.0042\n",
      "Epoch 12/100\n",
      "38/38 [==============================] - 8s 208ms/step - loss: 0.0042\n",
      "Epoch 13/100\n",
      "38/38 [==============================] - 8s 206ms/step - loss: 0.0041\n",
      "Epoch 14/100\n",
      "38/38 [==============================] - 8s 207ms/step - loss: 0.0043\n",
      "Epoch 15/100\n",
      "38/38 [==============================] - 8s 211ms/step - loss: 0.0039\n",
      "Epoch 16/100\n",
      "38/38 [==============================] - 8s 210ms/step - loss: 0.0038\n",
      "Epoch 17/100\n",
      "38/38 [==============================] - 8s 211ms/step - loss: 0.0037\n",
      "Epoch 18/100\n",
      "38/38 [==============================] - 8s 210ms/step - loss: 0.0036\n",
      "Epoch 19/100\n",
      "38/38 [==============================] - 8s 208ms/step - loss: 0.0036\n",
      "Epoch 20/100\n",
      "38/38 [==============================] - 8s 215ms/step - loss: 0.0038\n",
      "Epoch 21/100\n",
      "38/38 [==============================] - 8s 209ms/step - loss: 0.0037\n",
      "Epoch 22/100\n",
      "38/38 [==============================] - 8s 212ms/step - loss: 0.0035\n",
      "Epoch 23/100\n",
      "38/38 [==============================] - 8s 210ms/step - loss: 0.0035\n",
      "Epoch 24/100\n",
      "38/38 [==============================] - 8s 220ms/step - loss: 0.0029\n",
      "Epoch 25/100\n",
      "38/38 [==============================] - 8s 213ms/step - loss: 0.0030\n",
      "Epoch 26/100\n",
      "38/38 [==============================] - 8s 211ms/step - loss: 0.0032\n",
      "Epoch 27/100\n",
      "38/38 [==============================] - 853s 23s/step - loss: 0.0036\n",
      "Epoch 28/100\n",
      "38/38 [==============================] - 5s 141ms/step - loss: 0.0030\n",
      "Epoch 29/100\n",
      "38/38 [==============================] - 10s 263ms/step - loss: 0.0030\n",
      "Epoch 30/100\n",
      "38/38 [==============================] - 9s 248ms/step - loss: 0.0031\n",
      "Epoch 31/100\n",
      "38/38 [==============================] - 8s 219ms/step - loss: 0.0030\n",
      "Epoch 32/100\n",
      "38/38 [==============================] - 8s 208ms/step - loss: 0.0033\n",
      "Epoch 33/100\n",
      "38/38 [==============================] - 8s 215ms/step - loss: 0.0035\n",
      "Epoch 34/100\n",
      "38/38 [==============================] - 8s 215ms/step - loss: 0.0028\n",
      "Epoch 35/100\n",
      "38/38 [==============================] - 10s 254ms/step - loss: 0.0028\n",
      "Epoch 36/100\n",
      "38/38 [==============================] - 8s 217ms/step - loss: 0.0033\n",
      "Epoch 37/100\n",
      "38/38 [==============================] - 8s 212ms/step - loss: 0.0034\n",
      "Epoch 38/100\n",
      "38/38 [==============================] - 8s 214ms/step - loss: 0.0029\n",
      "Epoch 39/100\n",
      "38/38 [==============================] - 8s 213ms/step - loss: 0.0028\n",
      "Epoch 40/100\n",
      "38/38 [==============================] - 8s 214ms/step - loss: 0.0029\n",
      "Epoch 41/100\n",
      "38/38 [==============================] - 8s 211ms/step - loss: 0.0027\n",
      "Epoch 42/100\n",
      "38/38 [==============================] - 8s 215ms/step - loss: 0.0030\n",
      "Epoch 43/100\n",
      "38/38 [==============================] - 8s 221ms/step - loss: 0.0029\n",
      "Epoch 44/100\n",
      "38/38 [==============================] - 8s 223ms/step - loss: 0.0026\n",
      "Epoch 45/100\n",
      "38/38 [==============================] - 8s 218ms/step - loss: 0.0030\n",
      "Epoch 46/100\n",
      "38/38 [==============================] - 8s 222ms/step - loss: 0.0032\n",
      "Epoch 47/100\n",
      "38/38 [==============================] - 8s 221ms/step - loss: 0.0026\n",
      "Epoch 48/100\n",
      "38/38 [==============================] - 8s 213ms/step - loss: 0.0027\n",
      "Epoch 49/100\n",
      "38/38 [==============================] - 8s 211ms/step - loss: 0.0022\n",
      "Epoch 50/100\n",
      "38/38 [==============================] - 8s 212ms/step - loss: 0.0024\n",
      "Epoch 51/100\n",
      "38/38 [==============================] - 8s 218ms/step - loss: 0.0025\n",
      "Epoch 52/100\n",
      "38/38 [==============================] - 9s 250ms/step - loss: 0.0025\n",
      "Epoch 53/100\n",
      "38/38 [==============================] - 1404s 38s/step - loss: 0.0025\n",
      "Epoch 54/100\n",
      "38/38 [==============================] - 4s 105ms/step - loss: 0.0025\n",
      "Epoch 55/100\n",
      "38/38 [==============================] - 8s 218ms/step - loss: 0.0025\n",
      "Epoch 56/100\n",
      "38/38 [==============================] - 9s 234ms/step - loss: 0.0025\n",
      "Epoch 57/100\n",
      "38/38 [==============================] - 9s 234ms/step - loss: 0.0023\n",
      "Epoch 58/100\n",
      "38/38 [==============================] - 9s 228ms/step - loss: 0.0022\n",
      "Epoch 59/100\n",
      "38/38 [==============================] - 8s 217ms/step - loss: 0.0021\n",
      "Epoch 60/100\n",
      "38/38 [==============================] - 8s 207ms/step - loss: 0.0024\n",
      "Epoch 61/100\n",
      "38/38 [==============================] - 9s 229ms/step - loss: 0.0020\n",
      "Epoch 62/100\n",
      "38/38 [==============================] - 9s 231ms/step - loss: 0.0021\n",
      "Epoch 63/100\n",
      "38/38 [==============================] - 9s 229ms/step - loss: 0.0020\n",
      "Epoch 64/100\n",
      "38/38 [==============================] - 8s 210ms/step - loss: 0.0024\n",
      "Epoch 65/100\n",
      "38/38 [==============================] - 8s 208ms/step - loss: 0.0022\n",
      "Epoch 66/100\n",
      "38/38 [==============================] - 8s 212ms/step - loss: 0.0023\n",
      "Epoch 67/100\n",
      "38/38 [==============================] - 8s 215ms/step - loss: 0.0022\n",
      "Epoch 68/100\n",
      "38/38 [==============================] - 8s 205ms/step - loss: 0.0020\n",
      "Epoch 69/100\n",
      "38/38 [==============================] - 8s 211ms/step - loss: 0.0021\n",
      "Epoch 70/100\n",
      "38/38 [==============================] - 8s 212ms/step - loss: 0.0019\n",
      "Epoch 71/100\n",
      "38/38 [==============================] - 8s 213ms/step - loss: 0.0021\n",
      "Epoch 72/100\n",
      "38/38 [==============================] - 8s 212ms/step - loss: 0.0020\n",
      "Epoch 73/100\n",
      "38/38 [==============================] - 8s 211ms/step - loss: 0.0022\n",
      "Epoch 74/100\n",
      "38/38 [==============================] - 8s 212ms/step - loss: 0.0020\n",
      "Epoch 75/100\n",
      "38/38 [==============================] - 8s 216ms/step - loss: 0.0020\n",
      "Epoch 76/100\n",
      "38/38 [==============================] - 8s 213ms/step - loss: 0.0019\n",
      "Epoch 77/100\n",
      "38/38 [==============================] - 8s 218ms/step - loss: 0.0019\n",
      "Epoch 78/100\n",
      "38/38 [==============================] - 9s 232ms/step - loss: 0.0017\n",
      "Epoch 79/100\n",
      "38/38 [==============================] - 1967s 53s/step - loss: 0.0017\n",
      "Epoch 80/100\n",
      "38/38 [==============================] - 3s 83ms/step - loss: 0.0018\n",
      "Epoch 81/100\n",
      "38/38 [==============================] - 10s 255ms/step - loss: 0.0018\n",
      "Epoch 82/100\n",
      "38/38 [==============================] - 9s 247ms/step - loss: 0.0020\n",
      "Epoch 83/100\n",
      "38/38 [==============================] - 10s 266ms/step - loss: 0.0017\n",
      "Epoch 84/100\n",
      "38/38 [==============================] - 8s 219ms/step - loss: 0.0018\n",
      "Epoch 85/100\n",
      "38/38 [==============================] - 8s 216ms/step - loss: 0.0018\n",
      "Epoch 86/100\n",
      "38/38 [==============================] - 8s 214ms/step - loss: 0.0017\n",
      "Epoch 87/100\n",
      "38/38 [==============================] - 9s 226ms/step - loss: 0.0016\n",
      "Epoch 88/100\n",
      "38/38 [==============================] - 9s 244ms/step - loss: 0.0018\n",
      "Epoch 89/100\n",
      "38/38 [==============================] - 9s 227ms/step - loss: 0.0016\n",
      "Epoch 90/100\n",
      "38/38 [==============================] - 8s 212ms/step - loss: 0.0016\n",
      "Epoch 91/100\n",
      "38/38 [==============================] - 8s 212ms/step - loss: 0.0015\n",
      "Epoch 92/100\n",
      "38/38 [==============================] - 8s 211ms/step - loss: 0.0016\n",
      "Epoch 93/100\n",
      "38/38 [==============================] - 8s 211ms/step - loss: 0.0018\n",
      "Epoch 94/100\n",
      "38/38 [==============================] - 8s 213ms/step - loss: 0.0016\n",
      "Epoch 95/100\n",
      "38/38 [==============================] - 8s 214ms/step - loss: 0.0016\n",
      "Epoch 96/100\n",
      "38/38 [==============================] - 8s 216ms/step - loss: 0.0015\n",
      "Epoch 97/100\n",
      "38/38 [==============================] - 8s 208ms/step - loss: 0.0015\n",
      "Epoch 98/100\n",
      "38/38 [==============================] - 8s 211ms/step - loss: 0.0016\n",
      "Epoch 99/100\n"
     ]
    },
    {
     "name": "stdout",
     "output_type": "stream",
     "text": [
      "38/38 [==============================] - 8s 213ms/step - loss: 0.0014\n",
      "Epoch 100/100\n",
      "38/38 [==============================] - 8s 216ms/step - loss: 0.0012\n"
     ]
    },
    {
     "data": {
      "text/plain": [
       "<keras.callbacks.History at 0x23c2295db10>"
      ]
     },
     "execution_count": 36,
     "metadata": {},
     "output_type": "execute_result"
    }
   ],
   "source": [
    "regressor.fit(X_train,y_train,epochs =100,batch_size=32)"
   ]
  },
  {
   "cell_type": "code",
   "execution_count": 37,
   "id": "7d6c57c3",
   "metadata": {},
   "outputs": [
    {
     "name": "stdout",
     "output_type": "stream",
     "text": [
      "38/38 [==============================] - 5s 44ms/step\n"
     ]
    }
   ],
   "source": [
    "pred = regressor.predict(X_train)"
   ]
  },
  {
   "cell_type": "markdown",
   "id": "f19bec0f",
   "metadata": {},
   "source": [
    "# Evaluting the RNN"
   ]
  },
  {
   "cell_type": "code",
   "execution_count": 38,
   "id": "bc06e983",
   "metadata": {},
   "outputs": [
    {
     "data": {
      "text/plain": [
       "0.025188272129655194"
      ]
     },
     "execution_count": 38,
     "metadata": {},
     "output_type": "execute_result"
    }
   ],
   "source": [
    "import math\n",
    "from sklearn.metrics import mean_squared_error\n",
    "rmse = math.sqrt(mean_squared_error(y_train,pred))\n",
    "rmse"
   ]
  },
  {
   "cell_type": "markdown",
   "id": "0a1aaccf",
   "metadata": {},
   "source": [
    "##### part3- Making the predictions and visualising the results\n",
    "\n",
    "Getting the real stock price of 2017"
   ]
  },
  {
   "cell_type": "code",
   "execution_count": 39,
   "id": "eb9c381a",
   "metadata": {},
   "outputs": [],
   "source": [
    "dataset_test = pd.read_csv(r\"C:\\Users\\satis_asxzdl9\\Downloads\\Google_Stock_Price_Test.csv\")\n",
    "real_stock_price = dataset_test.iloc[:, 1:2].values"
   ]
  },
  {
   "cell_type": "markdown",
   "id": "6d7e58a8",
   "metadata": {},
   "source": [
    "### Getting the predicted stock price of 2017"
   ]
  },
  {
   "cell_type": "code",
   "execution_count": 44,
   "id": "2c9162e2",
   "metadata": {},
   "outputs": [
    {
     "name": "stdout",
     "output_type": "stream",
     "text": [
      "1/1 [==============================] - 0s 63ms/step\n"
     ]
    }
   ],
   "source": [
    "dataset_total = pd.concat((dataset_train['Open'], dataset_test['Open']),axis=0)\n",
    "\n",
    "inputs = dataset_total[len(dataset_total)-len(dataset_test)-60:].values\n",
    "inputs = inputs.reshape(-1,1)\n",
    "inputs = sc.transform(inputs)\n",
    "X_test = []\n",
    "\n",
    "for i in range(60,80):\n",
    "    X_test.append(inputs[i-60:i,0])\n",
    "X_test = np.array(X_test)\n",
    "X_test = np.reshape(X_test,(X_test.shape[0],X_test.shape[1],1))\n",
    "predicted_stock_price = regressor.predict(X_test)\n",
    "predicted_stock_price = sc.inverse_transform(predicted_stock_price)"
   ]
  },
  {
   "cell_type": "markdown",
   "id": "859a4b5a",
   "metadata": {},
   "source": [
    "# Visualising the results"
   ]
  },
  {
   "cell_type": "code",
   "execution_count": 45,
   "id": "8c0897df",
   "metadata": {},
   "outputs": [
    {
     "data": {
      "image/png": "[encoded data removed]",
      "text/plain": [
       "<Figure size 640x480 with 1 Axes>"
      ]
     },
     "metadata": {},
     "output_type": "display_data"
    }
   ],
   "source": [
    "plt.plot(real_stock_price, color = 'red', label = 'Real Google stock price')\n",
    "plt.plot(predicted_stock_price, color='blue', label = 'Predicted Google Stock price')\n",
    "plt.title('Google stock price prediction')\n",
    "plt.xlabel('Time')\n",
    "plt.ylabel('Google stock price')\n",
    "plt.legend()\n",
    "plt.show()"
   ]
  },
  {
   "cell_type": "code",
   "execution_count": null,
   "id": "aaf71741",
   "metadata": {},
   "outputs": [],
   "source": []
  }
 ],
 "metadata": {
  "kernelspec": {
   "display_name": "Python 3 (ipykernel)",
   "language": "python",
   "name": "python3"
  },
  "language_info": {
   "codemirror_mode": {
    "name": "ipython",
    "version": 3
   },
   "file_extension": ".py",
   "mimetype": "text/x-python",
   "name": "python",
   "nbconvert_exporter": "python",
   "pygments_lexer": "ipython3",
   "version": "3.11.5"
  }
 },
 "nbformat": 4,
 "nbformat_minor": 5
}
